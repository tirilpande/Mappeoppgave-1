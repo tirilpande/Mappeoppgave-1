{
 "cells": [
  {
   "cell_type": "code",
   "execution_count": null,
   "id": "b3919df5-2ba6-4447-847f-3cf1c5cd806b",
   "metadata": {},
   "outputs": [],
   "source": [
    "# Mappeoppgave 1\n",
    "## <u>Beskrivelse\n",
    "Les oppgaveteksten nøye. Se hvordan man leverer oppgaven <th><a href='https://uit-sok-1003-h22.github.io/semesteroppgave.html'>her</a> </th> og  <th><a href='https://uit-sok-1003-h22.github.io/github.html'>her</a>. Husk at den skal leveres både som jupyter-fil og som PDF. Kommenter kodene du skriver i alle oppgaver og vær nøye på å definere aksene mm i figurer. I noen av oppgavetekstene står det hint, men det betyr ikke at de ikke kan løses på andre måter\n",
    "\n",
    "##### For å hente denne filen til Jupyter gjør du slik:\n",
    "\n",
    "<ol>\n",
    "<li>Åpne et \"terminalvindu\"\n",
    "<li>Gå til hjemmeområdet ditt\n",
    "    \n",
    "    \n",
    "    [user@jupty02 ~]$ cd\n",
    "<li>Lag en ny mappe på ditt hjemmeområde ved å skrive inn i terminalvinduet \n",
    "\n",
    "    [user@jupty02 ~]$ mkdir SOK-1003-eksamen-2022-mappe1 \n",
    "\n",
    "<li>Gå så inn i den mappen du har laget ved å skrive\n",
    "\n",
    "    [user@jupty02 ~]$ cd SOK-1003-eksamen-2022-mappe1 \n",
    "<li> Last ned kursmateriellet ved å kopiere inn følgende kommando i kommandovinduet:\n",
    "\n",
    "    [user@jupty02 sok-1003]$ git clone https://github.com/uit-sok-1003-h22/mappe/\n",
    "</ol> \n",
    "<br> Oppgi gruppenavn m/ medlemmer på epost o.k.aars@uit.no innen 7/10, så blir dere satt opp til tidspunkt for presentasjon 19/10. \n",
    "<br>Bruk så denne filen til å gjøre besvarelsen din. Ved behov; legg til flere celler ved å trykke \"b\"\n",
    "</br>\n",
    "<hr>"
   ]
  },
  {
   "cell_type": "markdown",
   "id": "6578a453-0dfe-4f86-b2c4-0bbd934987c3",
   "metadata": {},
   "source": [
    "## <u> Oppgavene\n",
    "\n",
    "### Oppgave 1 (5 poeng)\n",
    "a) Lag en kort fortelling i en python kode som inkluderer alle de fire typer variabler vi har lært om i kurset. Koden skal kunne kjøres med print(). Koden burde inneholde utregninger av elementer du har definert\n"
   ]
  },
  {
   "cell_type": "raw",
   "id": "a4e851d9-c4ac-468f-b04b-55b1cbf40c4c",
   "metadata": {},
   "source": [
    "Vi har bestemt oss for å kjøpe en hytte sammen. For at hytten skal være stor nok har vi bestemt oss for arealet for hytten blir nødt til å være minst 45 kvadratmeter. For å finne ut om hytten vi ser på er stor nok har vi bestemt oss for å måle arealet for hvert rom for å deretter måle det opp med arealet som vi ønsker. Under ser vi utregningen"
   ]
  },
  {
   "cell_type": "code",
   "execution_count": 91,
   "id": "92c6740e-90f9-4a78-a331-5496fdc06b0e",
   "metadata": {
    "tags": []
   },
   "outputs": [
    {
     "name": "stdout",
     "output_type": "stream",
     "text": [
      "['Soverom', [12], 'Stuerom', [16], 'Kjøkken', [12.8], 'Baderom', [9]]\n",
      "49.8\n",
      "Størrelsen på hytten er: 49.8\n",
      "Størrelsen på hytten vi ønsker: 45\n",
      "Skal vi kjøpe hytten: Ja!\n"
     ]
    }
   ],
   "source": [
    "#Oppgave 1:\n",
    "\n",
    "#Arealet for hvert rom\n",
    "Sov = [12]\n",
    "Stue = [16]\n",
    "Kjøk = [12.8]\n",
    "Bad = [9]\n",
    "\n",
    "\n",
    "\n",
    "#For å ha mer oversikt gir vi hvert rom et kallenavn. Etter det setter vi de opp med det egentlig navnet sånn at det skal bli mer ryddig.\n",
    "Areal = [\"Soverom\", Sov, \"Stuerom\", Stue, \"Kjøkken\", Kjøk, \"Baderom\", Bad]\n",
    "\n",
    "print(Areal)\n",
    "\n",
    "\n",
    "\n",
    "#For å finne arealet av selve hytten\n",
    "Hytte = 12+16+12.8+9\n",
    "print(Hytte)\n",
    "\n",
    "\n",
    "\n",
    "#For å finne ut om hytten er stor nok bruker vi bool\n",
    "import numpy as np\n",
    "\n",
    "def er_hytten_stor_nok(s0,s1):\n",
    "    if s1>s0:\n",
    "        return \"Ja!\"\n",
    "    else:\n",
    "        return \"Nei\" \n",
    "\n",
    "Hytte=49.8\n",
    "Ønsket_hytte= 45\n",
    "print(\n",
    "    f\"Størrelsen på hytten er: {Hytte}\\n\"\n",
    "    f\"Størrelsen på hytten vi ønsker: {Ønsket_hytte}\\n\"\n",
    "    f\"Skal vi kjøpe hytten: {er_hytten_stor_nok(Ønsket_hytte,Hytte)}\"\n",
    ")"
   ]
  },
  {
   "cell_type": "markdown",
   "id": "843a6ebc-9a7d-449a-848e-1776d8b3e2ab",
   "metadata": {},
   "source": [
    "### Oppgave 2 (10 poeng)"
   ]
  },
  {
   "cell_type": "markdown",
   "id": "65c0f196-e9c4-447f-be5a-7e08643fc38d",
   "metadata": {},
   "source": [
    "Leieprisene i landet har steget de siste månedene. Ved å bruke realistiske tall<br> \n",
    "a) Lag tilbuds og etterspørselsfunksjoner for leie av bolig (Bruk av ikke-lineære funksjoner belønnes). <br>\n",
    " <br> Definer funksjonene slik at det er mulig å finne en likevekt\n",
    "\n",
    "\n",
    "\n"
   ]
  },
  {
   "cell_type": "code",
   "execution_count": 13,
   "id": "7d86454c-767f-4b08-ba51-585165c03e7c",
   "metadata": {},
   "outputs": [],
   "source": [
    "def demand(x):\n",
    "    return 12000/(5+x)\n",
    "\n",
    "def supply(x):\n",
    "    return x**4"
   ]
  },
  {
   "cell_type": "code",
   "execution_count": 23,
   "id": "25b60f82-6129-4aaf-ab2d-95e769a98511",
   "metadata": {},
   "outputs": [
    {
     "name": "stdout",
     "output_type": "stream",
     "text": [
      "800.0\n",
      "480.0\n",
      "342.85714285714283\n"
     ]
    }
   ],
   "source": [
    "#For å vise at etterspørsel synker:\n",
    "print(demand(10))\n",
    "print(demand(20))\n",
    "print(demand(30))"
   ]
  },
  {
   "cell_type": "code",
   "execution_count": 25,
   "id": "8a3b9edf-6235-4392-85c6-26e4a9f42204",
   "metadata": {},
   "outputs": [
    {
     "name": "stdout",
     "output_type": "stream",
     "text": [
      "10000\n",
      "160000\n",
      "810000\n"
     ]
    }
   ],
   "source": [
    "#For å vise at tilbud øker:\n",
    "print(supply(10))\n",
    "print(supply(20))\n",
    "print(supply(30))"
   ]
  },
  {
   "cell_type": "markdown",
   "id": "8994d05c-3eff-428b-9cc3-c52817cba507",
   "metadata": {},
   "source": [
    "b) Vis at disse er henholdvis fallende og stigende, ved bruk av\n",
    "- Regning\n",
    "- figurativt (matplotlib) \n",
    "Husk å markere aksene tydelig og at funskjonene er definert slik at linjene krysser"
   ]
  },
  {
   "cell_type": "code",
   "execution_count": 173,
   "id": "5856bb50-2bf3-4af2-ae80-eda38fc295ae",
   "metadata": {},
   "outputs": [
    {
     "name": "stdout",
     "output_type": "stream",
     "text": [
      "\n",
      "Likevekten er 12000/(5 + CRootOf(x**5 + 5*x**4 - 12000, 0))\n",
      "\n"
     ]
    }
   ],
   "source": [
    "#For å finne hvor funksjonene krysser via utregning:\n",
    "from sympy.solvers import solve\n",
    "\n",
    "x=sp.symbols('x')\n",
    "eq_cond=sp.Eq(demand(x),supply(x))\n",
    "eq_cond\n",
    "\n",
    "x_eq=solve(eq_cond,x)\n",
    "x_eq\n",
    "\n",
    "p_eq=demand(x_eq[0])\n",
    "print(f\"\"\"\n",
    "Likevekten er {p_eq}\n",
    "\"\"\")"
   ]
  },
  {
   "cell_type": "code",
   "execution_count": 161,
   "id": "8707e3ee-2227-4e0d-b3ba-a92ae302e028",
   "metadata": {},
   "outputs": [
    {
     "data": {
      "text/plain": [
       "(-2.0, 1500.0)"
      ]
     },
     "execution_count": 161,
     "metadata": {},
     "output_type": "execute_result"
    },
    {
     "data": {
      "image/png": "[encoded data removed]",
      "text/plain": [
       "<Figure size 432x288 with 1 Axes>"
      ]
     },
     "metadata": {
      "needs_background": "light"
     },
     "output_type": "display_data"
    }
   ],
   "source": [
    "#For å finne hvor funksjonene krysser i en graf:\n",
    "\n",
    "#Importer numpy og matplotlib \n",
    "import numpy as np\n",
    "from matplotlib import pyplot as plt\n",
    "\n",
    "\n",
    "x = np.linspace(1,100,1000)\n",
    "y = np.linspace(1,100,1000)\n",
    "\n",
    "plt.plot(x,supply(x),label='Tilbud')\n",
    "\n",
    "\n",
    "plt.plot(x,demand(x),color='green',label='Etterspørsel')\n",
    "\n",
    "\n",
    "plt.legend(loc='lower right')\n",
    "\n",
    "\n",
    "plt.ylabel('Pris')\n",
    "plt.xlabel('Enheter')\n",
    "\n",
    "\n",
    "\n",
    "plt.ylim((-2, 1500))"
   ]
  },
  {
   "cell_type": "markdown",
   "id": "8a528c27-c3d6-469f-824f-f89e217d1194",
   "metadata": {},
   "source": [
    "c) Kommenter funksjonene og likevekten. Vis gjerne figurativt hvor likevekten er ved bruk av scatter"
   ]
  },
  {
   "cell_type": "raw",
   "id": "2211f6e1-cf54-408c-8721-5424faff2b07",
   "metadata": {},
   "source": [
    "Funkjsonene blir valgt utifra den lineære funksjonen for etterspørsel og tilbud. For å gjøre funksjonen ikke-linær valgte vi derfor å opphøye tilbud og dele etterspørselen. Når likevekt er det samme er markedstilbud like stor som etterspørsel for bolig. For å regne det ut via utregning brukte vi koden \"solve\" for å finne ut likevekten. For å finne det ut med hjelp av figuraktiv ble det derimot vanskeligere. Vi måtte plotte inn funksjonene inn i en graf, for å deretter finne ut hvor linjene møtes. Vi får samme resultat på denne måten. For at det skal bli enklere å legge merke til bruker vi istedenfor \"vlines\" koden for å lage en linje for hvor grafene møtes."
   ]
  },
  {
   "cell_type": "code",
   "execution_count": 210,
   "id": "08efd11d-705c-4615-9428-ec1185ca974b",
   "metadata": {},
   "outputs": [
    {
     "data": {
      "text/plain": [
       "(-2.0, 1500.0)"
      ]
     },
     "execution_count": 210,
     "metadata": {},
     "output_type": "execute_result"
    },
    {
     "data": {
      "image/png": "[encoded data removed]",
      "text/plain": [
       "<Figure size 432x288 with 1 Axes>"
      ]
     },
     "metadata": {
      "needs_background": "light"
     },
     "output_type": "display_data"
    }
   ],
   "source": [
    "\n",
    "import numpy as np\n",
    "from matplotlib import pyplot as plt\n",
    "\n",
    "\n",
    "x = np.linspace(1,100,1000)\n",
    "y = np.linspace(1,100,1000)\n",
    "\n",
    "plt.plot(x,supply(x),label='Tilbud')\n",
    "\n",
    "\n",
    "plt.plot(x,demand(x),color='green',label='Etterspørsel')\n",
    "plt.vlines(float(x_eq[0]), 0, 1200,colors=['black'],linestyles='dashed', label='Likevekt')\n",
    "\n",
    "plt.legend(loc='lower right')\n",
    "\n",
    "\n",
    "plt.ylabel('Pris')\n",
    "plt.xlabel('Enheter')\n",
    "\n",
    "\n",
    "\n",
    "plt.ylim((-2, 1500))"
   ]
  },
  {
   "cell_type": "markdown",
   "id": "dc7ec86f-9b5e-4e32-8ade-d95cfeb93d29",
   "metadata": {},
   "source": [
    "### Oppgave 3 (15 poeng)"
   ]
  },
  {
   "cell_type": "markdown",
   "id": "ffd4601d-7863-4b7d-a3ca-56153fb5143f",
   "metadata": {},
   "source": [
    "SSB har omfattende data på befolkningsutvikling (https://www.ssb.no/statbank/table/05803/tableViewLayout1/). Disse dataene skal du bruke i de neste deloppgavene.\n",
    "\n",
    "a) lag lister av følgende variabler: \"Befolkning 1. januar\", \"Døde i alt\", \"Innflyttinger\" og \"Utflyttinger\". Velg selv variabelnavn når du definerer dem i python. Første element i hver liste skal være variabelnavnet. Bruk tall for perioden 2012-2021. Lag så en liste av disse listene. Du kan kalle den \"ssb\". \n",
    "<br><br>\n",
    "<b>Hint:</b> når du skal velge variabler på SSB sin nettside må du holde inne ctrl for å velge flere variabler.\n"
   ]
  },
  {
   "cell_type": "code",
   "execution_count": 93,
   "id": "89588a39-4307-4a7f-ba4e-91ac7a8a8b66",
   "metadata": {
    "collapsed": true,
    "jupyter": {
     "outputs_hidden": true
    },
    "tags": []
   },
   "outputs": [
    {
     "data": {
      "text/plain": [
       "[['Befolkning',\n",
       "  4985870,\n",
       "  5051275,\n",
       "  5109056,\n",
       "  5165802,\n",
       "  5213985,\n",
       "  5258317,\n",
       "  5295619,\n",
       "  5238212,\n",
       "  5367580,\n",
       "  5391369],\n",
       " ['Døde',\n",
       "  41992,\n",
       "  41282,\n",
       "  40394,\n",
       "  40727,\n",
       "  40726,\n",
       "  40774,\n",
       "  40840,\n",
       "  40684,\n",
       "  40611,\n",
       "  42002],\n",
       " ['Innflytting',\n",
       "  78570,\n",
       "  75789,\n",
       "  70030,\n",
       "  67276,\n",
       "  66800,\n",
       "  58192,\n",
       "  52485,\n",
       "  52153,\n",
       "  38071,\n",
       "  53947],\n",
       " ['Utflytting',\n",
       "  31227,\n",
       "  35716,\n",
       "  31875,\n",
       "  37474,\n",
       "  40724,\n",
       "  36843,\n",
       "  34382,\n",
       "  26826,\n",
       "  26744,\n",
       "  34297]]"
      ]
     },
     "execution_count": 93,
     "metadata": {},
     "output_type": "execute_result"
    }
   ],
   "source": [
    "#Oppgave 3a:\n",
    "\n",
    "\n",
    "#Lager først variabler\n",
    "Befolkning = ['Befolkning', 4985870, 5051275, 5109056, 5165802, 5213985, 5258317, 5295619, 5238212, 5367580, 5391369]\n",
    "Døde = ['Døde', 41992, 41282, 40394, 40727, 40726, 40774, 40840, 40684, 40611, 42002]\n",
    "Innflytting = ['Innflytting', 78570, 75789, 70030, 67276, 66800, 58192, 52485, 52153, 38071, 53947]\n",
    "Utflytting = ['Utflytting', 31227, 35716, 31875, 37474, 40724, 36843, 34382, 26826, 26744, 34297]\n",
    "\n",
    "ssb = [Befolkning, Døde, Innflytting, Utflytting]\n",
    "ssb"
   ]
  },
  {
   "cell_type": "markdown",
   "id": "d73fb1db-1b16-41e8-afed-b88af54053cd",
   "metadata": {},
   "source": [
    "b) konverter \"ssb\" til en numpy matrise og gi den et nytt navn"
   ]
  },
  {
   "cell_type": "code",
   "execution_count": 107,
   "id": "2575453b-d523-49b8-98e7-6c2c6f31fc0b",
   "metadata": {
    "tags": []
   },
   "outputs": [
    {
     "data": {
      "text/plain": [
       "array([['Befolkning', '4985870', '5051275', '5109056', '5165802',\n",
       "        '5213985', '5258317', '5295619', '5238212', '5367580', '5391369'],\n",
       "       ['Døde', '41992', '41282', '40394', '40727', '40726', '40774',\n",
       "        '40840', '40684', '40611', '42002'],\n",
       "       ['Innflytting', '78570', '75789', '70030', '67276', '66800',\n",
       "        '58192', '52485', '52153', '38071', '53947'],\n",
       "       ['Utflytting', '31227', '35716', '31875', '37474', '40724',\n",
       "        '36843', '34382', '26826', '26744', '34297']], dtype='<U21')"
      ]
     },
     "execution_count": 107,
     "metadata": {},
     "output_type": "execute_result"
    }
   ],
   "source": [
    "#Oppgave 3b:\n",
    "\n",
    "\n",
    "#Laster ned pakken\n",
    "import numpy as np\n",
    "\n",
    "\n",
    "#Gjør variabelen om til en numpy\n",
    "ssb_np = np.array(ssb)\n",
    "ssb_np"
   ]
  },
  {
   "cell_type": "markdown",
   "id": "7948aec6-fbe4-4076-b781-13f00d7892a0",
   "metadata": {},
   "source": [
    "c) Putt alle tallene inn i en egen matrise og konverter disse til int "
   ]
  },
  {
   "cell_type": "code",
   "execution_count": 95,
   "id": "a4adefaa-98e0-4e84-82c5-5099eced6d05",
   "metadata": {
    "collapsed": true,
    "jupyter": {
     "outputs_hidden": true
    },
    "tags": []
   },
   "outputs": [
    {
     "data": {
      "text/plain": [
       "array([[4985870, 5051275, 5109056, 5165802, 5213985, 5258317, 5295619,\n",
       "        5238212, 5367580, 5391369],\n",
       "       [  41992,   41282,   40394,   40727,   40726,   40774,   40840,\n",
       "          40684,   40611,   42002],\n",
       "       [  78570,   75789,   70030,   67276,   66800,   58192,   52485,\n",
       "          52153,   38071,   53947],\n",
       "       [  31227,   35716,   31875,   37474,   40724,   36843,   34382,\n",
       "          26826,   26744,   34297]])"
      ]
     },
     "execution_count": 95,
     "metadata": {},
     "output_type": "execute_result"
    }
   ],
   "source": [
    "#Oppgave 3c:\n",
    "\n",
    "\n",
    "ssb_numbers = np.array(ssb_np[:,1:], dtype =int)\n",
    "ssb_numbers"
   ]
  },
  {
   "cell_type": "markdown",
   "id": "5cdb7248-c041-430e-828f-33f8f5fe3ea4",
   "metadata": {},
   "source": [
    "d) vis befolkningsutviklingen grafisk for de gjeldene årene ved bruk av matplotlib, og mer spesifikt \"fig, ax = plt.subplots()\". Vis befolkning på y-aksen i millioner"
   ]
  },
  {
   "cell_type": "code",
   "execution_count": 101,
   "id": "1aea3ebd-e525-471b-97cc-292b3d06099a",
   "metadata": {},
   "outputs": [
    {
     "data": {
      "text/plain": [
       "<matplotlib.legend.Legend at 0x7f1ee86c0940>"
      ]
     },
     "execution_count": 101,
     "metadata": {},
     "output_type": "execute_result"
    },
    {
     "data": {
      "image/png": "[encoded data removed]",
      "text/plain": [
       "<Figure size 432x288 with 1 Axes>"
      ]
     },
     "metadata": {
      "needs_background": "light"
     },
     "output_type": "display_data"
    }
   ],
   "source": [
    "#Oppgave 3d:\n",
    "\n",
    "\n",
    "#Laster ned pakken\n",
    "from matplotlib import pyplot as plt\n",
    "\n",
    "\n",
    "#For å lage y-aksen:\n",
    "T = np.linspace(0,10,10)\n",
    "\n",
    "\n",
    "#For å lage selve grafen\n",
    "fig, ax = plt.subplots()\n",
    "ax.plot(T, ssb_numbers[0,:],       label='Befolkningsutviklingen fra år 2012 til 2021',    color='lightblue')\n",
    "ax.legend(loc='upper left',frameon=False)"
   ]
  },
  {
   "cell_type": "markdown",
   "id": "3f71b687-ee56-469a-9e9d-f2b005d44c08",
   "metadata": {},
   "source": [
    "e) Lag det samme plottet ved bruk av oppslag. Hva er fordelen med dette?"
   ]
  },
  {
   "cell_type": "raw",
   "id": "b2090a65-747d-4427-ad21-4389a54aeb85",
   "metadata": {
    "tags": []
   },
   "source": []
  },
  {
   "cell_type": "code",
   "execution_count": 120,
   "id": "5596bd22-3ba8-4ead-8adb-2547e304f75c",
   "metadata": {
    "collapsed": true,
    "jupyter": {
     "outputs_hidden": true
    },
    "tags": []
   },
   "outputs": [
    {
     "name": "stdout",
     "output_type": "stream",
     "text": [
      "<class 'dict'>\n"
     ]
    },
    {
     "ename": "ValueError",
     "evalue": "x and y must be the same size",
     "output_type": "error",
     "traceback": [
      "\u001b[0;31m---------------------------------------------------------------------------\u001b[0m",
      "\u001b[0;31mValueError\u001b[0m                                Traceback (most recent call last)",
      "Input \u001b[0;32mIn [120]\u001b[0m, in \u001b[0;36m<cell line: 12>\u001b[0;34m()\u001b[0m\n\u001b[1;32m     10\u001b[0m plt\u001b[38;5;241m.\u001b[39mylabel(T)\n\u001b[1;32m     11\u001b[0m plt\u001b[38;5;241m.\u001b[39mxlabel(\u001b[38;5;124m'\u001b[39m\u001b[38;5;124mBefolkning\u001b[39m\u001b[38;5;124m'\u001b[39m)\n\u001b[0;32m---> 12\u001b[0m \u001b[43mplt\u001b[49m\u001b[38;5;241;43m.\u001b[39;49m\u001b[43mscatter\u001b[49m\u001b[43m(\u001b[49m\u001b[43mssb\u001b[49m\u001b[43m[\u001b[49m\u001b[38;5;124;43m'\u001b[39;49m\u001b[38;5;124;43mBefolkning\u001b[39;49m\u001b[38;5;124;43m'\u001b[39;49m\u001b[43m]\u001b[49m\u001b[43m,\u001b[49m\u001b[43m \u001b[49m\u001b[43mT\u001b[49m\u001b[43m)\u001b[49m\n",
      "File \u001b[0;32m/usr/local/Miniconda3-py39_4.10.3-Linux-x86_64/lib/python3.9/site-packages/matplotlib/pyplot.py:2819\u001b[0m, in \u001b[0;36mscatter\u001b[0;34m(x, y, s, c, marker, cmap, norm, vmin, vmax, alpha, linewidths, edgecolors, plotnonfinite, data, **kwargs)\u001b[0m\n\u001b[1;32m   2814\u001b[0m \u001b[38;5;129m@_copy_docstring_and_deprecators\u001b[39m(Axes\u001b[38;5;241m.\u001b[39mscatter)\n\u001b[1;32m   2815\u001b[0m \u001b[38;5;28;01mdef\u001b[39;00m \u001b[38;5;21mscatter\u001b[39m(\n\u001b[1;32m   2816\u001b[0m         x, y, s\u001b[38;5;241m=\u001b[39m\u001b[38;5;28;01mNone\u001b[39;00m, c\u001b[38;5;241m=\u001b[39m\u001b[38;5;28;01mNone\u001b[39;00m, marker\u001b[38;5;241m=\u001b[39m\u001b[38;5;28;01mNone\u001b[39;00m, cmap\u001b[38;5;241m=\u001b[39m\u001b[38;5;28;01mNone\u001b[39;00m, norm\u001b[38;5;241m=\u001b[39m\u001b[38;5;28;01mNone\u001b[39;00m,\n\u001b[1;32m   2817\u001b[0m         vmin\u001b[38;5;241m=\u001b[39m\u001b[38;5;28;01mNone\u001b[39;00m, vmax\u001b[38;5;241m=\u001b[39m\u001b[38;5;28;01mNone\u001b[39;00m, alpha\u001b[38;5;241m=\u001b[39m\u001b[38;5;28;01mNone\u001b[39;00m, linewidths\u001b[38;5;241m=\u001b[39m\u001b[38;5;28;01mNone\u001b[39;00m, \u001b[38;5;241m*\u001b[39m,\n\u001b[1;32m   2818\u001b[0m         edgecolors\u001b[38;5;241m=\u001b[39m\u001b[38;5;28;01mNone\u001b[39;00m, plotnonfinite\u001b[38;5;241m=\u001b[39m\u001b[38;5;28;01mFalse\u001b[39;00m, data\u001b[38;5;241m=\u001b[39m\u001b[38;5;28;01mNone\u001b[39;00m, \u001b[38;5;241m*\u001b[39m\u001b[38;5;241m*\u001b[39mkwargs):\n\u001b[0;32m-> 2819\u001b[0m     __ret \u001b[38;5;241m=\u001b[39m \u001b[43mgca\u001b[49m\u001b[43m(\u001b[49m\u001b[43m)\u001b[49m\u001b[38;5;241;43m.\u001b[39;49m\u001b[43mscatter\u001b[49m\u001b[43m(\u001b[49m\n\u001b[1;32m   2820\u001b[0m \u001b[43m        \u001b[49m\u001b[43mx\u001b[49m\u001b[43m,\u001b[49m\u001b[43m \u001b[49m\u001b[43my\u001b[49m\u001b[43m,\u001b[49m\u001b[43m \u001b[49m\u001b[43ms\u001b[49m\u001b[38;5;241;43m=\u001b[39;49m\u001b[43ms\u001b[49m\u001b[43m,\u001b[49m\u001b[43m \u001b[49m\u001b[43mc\u001b[49m\u001b[38;5;241;43m=\u001b[39;49m\u001b[43mc\u001b[49m\u001b[43m,\u001b[49m\u001b[43m \u001b[49m\u001b[43mmarker\u001b[49m\u001b[38;5;241;43m=\u001b[39;49m\u001b[43mmarker\u001b[49m\u001b[43m,\u001b[49m\u001b[43m \u001b[49m\u001b[43mcmap\u001b[49m\u001b[38;5;241;43m=\u001b[39;49m\u001b[43mcmap\u001b[49m\u001b[43m,\u001b[49m\u001b[43m \u001b[49m\u001b[43mnorm\u001b[49m\u001b[38;5;241;43m=\u001b[39;49m\u001b[43mnorm\u001b[49m\u001b[43m,\u001b[49m\n\u001b[1;32m   2821\u001b[0m \u001b[43m        \u001b[49m\u001b[43mvmin\u001b[49m\u001b[38;5;241;43m=\u001b[39;49m\u001b[43mvmin\u001b[49m\u001b[43m,\u001b[49m\u001b[43m \u001b[49m\u001b[43mvmax\u001b[49m\u001b[38;5;241;43m=\u001b[39;49m\u001b[43mvmax\u001b[49m\u001b[43m,\u001b[49m\u001b[43m \u001b[49m\u001b[43malpha\u001b[49m\u001b[38;5;241;43m=\u001b[39;49m\u001b[43malpha\u001b[49m\u001b[43m,\u001b[49m\u001b[43m \u001b[49m\u001b[43mlinewidths\u001b[49m\u001b[38;5;241;43m=\u001b[39;49m\u001b[43mlinewidths\u001b[49m\u001b[43m,\u001b[49m\n\u001b[1;32m   2822\u001b[0m \u001b[43m        \u001b[49m\u001b[43medgecolors\u001b[49m\u001b[38;5;241;43m=\u001b[39;49m\u001b[43medgecolors\u001b[49m\u001b[43m,\u001b[49m\u001b[43m \u001b[49m\u001b[43mplotnonfinite\u001b[49m\u001b[38;5;241;43m=\u001b[39;49m\u001b[43mplotnonfinite\u001b[49m\u001b[43m,\u001b[49m\n\u001b[1;32m   2823\u001b[0m \u001b[43m        \u001b[49m\u001b[38;5;241;43m*\u001b[39;49m\u001b[38;5;241;43m*\u001b[39;49m\u001b[43m(\u001b[49m\u001b[43m{\u001b[49m\u001b[38;5;124;43m\"\u001b[39;49m\u001b[38;5;124;43mdata\u001b[39;49m\u001b[38;5;124;43m\"\u001b[39;49m\u001b[43m:\u001b[49m\u001b[43m \u001b[49m\u001b[43mdata\u001b[49m\u001b[43m}\u001b[49m\u001b[43m \u001b[49m\u001b[38;5;28;43;01mif\u001b[39;49;00m\u001b[43m \u001b[49m\u001b[43mdata\u001b[49m\u001b[43m \u001b[49m\u001b[38;5;129;43;01mis\u001b[39;49;00m\u001b[43m \u001b[49m\u001b[38;5;129;43;01mnot\u001b[39;49;00m\u001b[43m \u001b[49m\u001b[38;5;28;43;01mNone\u001b[39;49;00m\u001b[43m \u001b[49m\u001b[38;5;28;43;01melse\u001b[39;49;00m\u001b[43m \u001b[49m\u001b[43m{\u001b[49m\u001b[43m}\u001b[49m\u001b[43m)\u001b[49m\u001b[43m,\u001b[49m\u001b[43m \u001b[49m\u001b[38;5;241;43m*\u001b[39;49m\u001b[38;5;241;43m*\u001b[39;49m\u001b[43mkwargs\u001b[49m\u001b[43m)\u001b[49m\n\u001b[1;32m   2824\u001b[0m     sci(__ret)\n\u001b[1;32m   2825\u001b[0m     \u001b[38;5;28;01mreturn\u001b[39;00m __ret\n",
      "File \u001b[0;32m/usr/local/Miniconda3-py39_4.10.3-Linux-x86_64/lib/python3.9/site-packages/matplotlib/__init__.py:1412\u001b[0m, in \u001b[0;36m_preprocess_data.<locals>.inner\u001b[0;34m(ax, data, *args, **kwargs)\u001b[0m\n\u001b[1;32m   1409\u001b[0m \u001b[38;5;129m@functools\u001b[39m\u001b[38;5;241m.\u001b[39mwraps(func)\n\u001b[1;32m   1410\u001b[0m \u001b[38;5;28;01mdef\u001b[39;00m \u001b[38;5;21minner\u001b[39m(ax, \u001b[38;5;241m*\u001b[39margs, data\u001b[38;5;241m=\u001b[39m\u001b[38;5;28;01mNone\u001b[39;00m, \u001b[38;5;241m*\u001b[39m\u001b[38;5;241m*\u001b[39mkwargs):\n\u001b[1;32m   1411\u001b[0m     \u001b[38;5;28;01mif\u001b[39;00m data \u001b[38;5;129;01mis\u001b[39;00m \u001b[38;5;28;01mNone\u001b[39;00m:\n\u001b[0;32m-> 1412\u001b[0m         \u001b[38;5;28;01mreturn\u001b[39;00m \u001b[43mfunc\u001b[49m\u001b[43m(\u001b[49m\u001b[43max\u001b[49m\u001b[43m,\u001b[49m\u001b[43m \u001b[49m\u001b[38;5;241;43m*\u001b[39;49m\u001b[38;5;28;43mmap\u001b[39;49m\u001b[43m(\u001b[49m\u001b[43msanitize_sequence\u001b[49m\u001b[43m,\u001b[49m\u001b[43m \u001b[49m\u001b[43margs\u001b[49m\u001b[43m)\u001b[49m\u001b[43m,\u001b[49m\u001b[43m \u001b[49m\u001b[38;5;241;43m*\u001b[39;49m\u001b[38;5;241;43m*\u001b[39;49m\u001b[43mkwargs\u001b[49m\u001b[43m)\u001b[49m\n\u001b[1;32m   1414\u001b[0m     bound \u001b[38;5;241m=\u001b[39m new_sig\u001b[38;5;241m.\u001b[39mbind(ax, \u001b[38;5;241m*\u001b[39margs, \u001b[38;5;241m*\u001b[39m\u001b[38;5;241m*\u001b[39mkwargs)\n\u001b[1;32m   1415\u001b[0m     auto_label \u001b[38;5;241m=\u001b[39m (bound\u001b[38;5;241m.\u001b[39marguments\u001b[38;5;241m.\u001b[39mget(label_namer)\n\u001b[1;32m   1416\u001b[0m                   \u001b[38;5;129;01mor\u001b[39;00m bound\u001b[38;5;241m.\u001b[39mkwargs\u001b[38;5;241m.\u001b[39mget(label_namer))\n",
      "File \u001b[0;32m/usr/local/Miniconda3-py39_4.10.3-Linux-x86_64/lib/python3.9/site-packages/matplotlib/axes/_axes.py:4362\u001b[0m, in \u001b[0;36mAxes.scatter\u001b[0;34m(self, x, y, s, c, marker, cmap, norm, vmin, vmax, alpha, linewidths, edgecolors, plotnonfinite, **kwargs)\u001b[0m\n\u001b[1;32m   4360\u001b[0m y \u001b[38;5;241m=\u001b[39m np\u001b[38;5;241m.\u001b[39mma\u001b[38;5;241m.\u001b[39mravel(y)\n\u001b[1;32m   4361\u001b[0m \u001b[38;5;28;01mif\u001b[39;00m x\u001b[38;5;241m.\u001b[39msize \u001b[38;5;241m!=\u001b[39m y\u001b[38;5;241m.\u001b[39msize:\n\u001b[0;32m-> 4362\u001b[0m     \u001b[38;5;28;01mraise\u001b[39;00m \u001b[38;5;167;01mValueError\u001b[39;00m(\u001b[38;5;124m\"\u001b[39m\u001b[38;5;124mx and y must be the same size\u001b[39m\u001b[38;5;124m\"\u001b[39m)\n\u001b[1;32m   4364\u001b[0m \u001b[38;5;28;01mif\u001b[39;00m s \u001b[38;5;129;01mis\u001b[39;00m \u001b[38;5;28;01mNone\u001b[39;00m:\n\u001b[1;32m   4365\u001b[0m     s \u001b[38;5;241m=\u001b[39m (\u001b[38;5;241m20\u001b[39m \u001b[38;5;28;01mif\u001b[39;00m rcParams[\u001b[38;5;124m'\u001b[39m\u001b[38;5;124m_internal.classic_mode\u001b[39m\u001b[38;5;124m'\u001b[39m] \u001b[38;5;28;01melse\u001b[39;00m\n\u001b[1;32m   4366\u001b[0m          rcParams[\u001b[38;5;124m'\u001b[39m\u001b[38;5;124mlines.markersize\u001b[39m\u001b[38;5;124m'\u001b[39m] \u001b[38;5;241m*\u001b[39m\u001b[38;5;241m*\u001b[39m \u001b[38;5;241m2.0\u001b[39m)\n",
      "\u001b[0;31mValueError\u001b[0m: x and y must be the same size"
     ]
    },
    {
     "data": {
      "image/png": "[encoded data removed]",
      "text/plain": [
       "<Figure size 432x288 with 1 Axes>"
      ]
     },
     "metadata": {
      "needs_background": "light"
     },
     "output_type": "display_data"
    }
   ],
   "source": [
    "ssb={\n",
    "    'Befolkning':ssb_numbers[:,-1], \n",
    "  }\n",
    "\n",
    "print(type(ssb))\n",
    "\n",
    "#Fordelene med å bruke oppslag er at grafene blir mer lesbare\n",
    "\n",
    "#For å lage y-aksen:\n",
    "plt.ylabel(T)\n",
    "plt.xlabel('Befolkning')\n",
    "plt.scatter(ssb['Befolkning'], T)"
   ]
  },
  {
   "cell_type": "markdown",
   "id": "6f8b51d8-f06a-488f-845b-d40cfc2187a2",
   "metadata": {},
   "source": [
    "f) Hva er den relative befolkningstilveksten utenom fødsler (dvs. innvandring/utvandring)? Definer en ny array og legg den til i oppslaget du laget i oppgaven tidligere. Kall den \"rel_immigration\". Plot denne sammen med grafen du laget i (d). "
   ]
  },
  {
   "cell_type": "code",
   "execution_count": 7,
   "id": "f511ba92-873e-4114-87db-0a8737c6c582",
   "metadata": {},
   "outputs": [
    {
     "data": {
      "text/plain": [
       "[<matplotlib.lines.Line2D at 0x7f3ac9060c40>]"
      ]
     },
     "execution_count": 7,
     "metadata": {},
     "output_type": "execute_result"
    },
    {
     "data": {
      "image/png": "[encoded data removed]",
      "text/plain": [
       "<Figure size 432x288 with 1 Axes>"
      ]
     },
     "metadata": {
      "needs_background": "light"
     },
     "output_type": "display_data"
    }
   ],
   "source": [
    "#Oppgave 3f:\n",
    "\n",
    "\n",
    "a = np.array(ssb_numbers[2,:])\n",
    "b = np.array(ssb_numbers[3,:])\n",
    "\n",
    "rel_immigration = (a+b)\n",
    "rel_immigration\n",
    "\n",
    "\n",
    "\n",
    "#For å lage y-aksen:\n",
    "T = np.linspace(0,10,10)\n",
    "\n",
    "\n",
    "#\n",
    "fig, ax = plt.subplots()\n",
    "ax.plot(T, ssb_numbers[0,:],       label='Befolkningsutviklingen fra år 2012 til 2021',    color='lightblue')\n",
    "ax.legend(loc='upper left',frameon=False)\n",
    "\n",
    "ax.plot(T, rel_immigration,          label='befolkningstilveksten utenom fødsler',     color='green')"
   ]
  },
  {
   "cell_type": "markdown",
   "id": "fc0370be-f664-417f-885d-97b0f6aa22d6",
   "metadata": {},
   "source": [
    "g) ekstrapoeng. Kan plotte de samme tallene (dvs \"rel_immigration\" og \"befolkning\" sammen med år) i to figurer ved siden av hverandre ved bruk av \"fig, (ax1, ax2) = plt.subplots(1, 2)\". Gi grafene ulik farge\n"
   ]
  },
  {
   "cell_type": "code",
   "execution_count": 8,
   "id": "8dc8457a-7144-4bdb-a4d2-9e2c7fb5cac1",
   "metadata": {},
   "outputs": [
    {
     "data": {
      "text/plain": [
       "<matplotlib.legend.Legend at 0x7f3ac8fbf580>"
      ]
     },
     "execution_count": 8,
     "metadata": {},
     "output_type": "execute_result"
    },
    {
     "data": {
      "image/png": "[encoded data removed]",
      "text/plain": [
       "<Figure size 432x288 with 2 Axes>"
      ]
     },
     "metadata": {
      "needs_background": "light"
     },
     "output_type": "display_data"
    }
   ],
   "source": [
    "#Oppgave 3g:\n",
    "\n",
    "\n",
    "fig, (ax1, ax2) = plt.subplots(1, 2)\n",
    "fig.suptitle('Befolkningsutvilkning og befolkningstilveksten utenom fødsel')\n",
    "ax1.plot(T, ssb_numbers[0,:],       label='Befolkningsutviklingen fra år 2012 til 2021',    color='lightblue')\n",
    "ax2.plot(T, rel_immigration,          label='befolkningstilveksten utenom fødsel',     color='green')\n",
    "ax.legend(loc='upper left',frameon=False)"
   ]
  },
  {
   "cell_type": "markdown",
   "id": "091a4c4b-0ab3-42b9-9576-de355e184baf",
   "metadata": {},
   "source": [
    "## Oppgave 4 (20 poeng)"
   ]
  },
  {
   "cell_type": "markdown",
   "id": "806a7eb9-8d04-4fb6-881d-9be4ef739401",
   "metadata": {},
   "source": [
    "Et lån består som regel av et månedlig terminbeløp. Dette beløpet er summen av avdrag (nedbetalingen på lånet) og renter. Vi antar månedlig forrenting i alle oppgavene. Dvs. at det er 12 terminer i hvert år.<br><br>\n",
    "a) Lag en funksjon som regner ut hvor mye lånet \"x\" koster deg i renteutgifter for \"t\" terminer med årlig rente \"r\" for et serielån. <br> <br>  Siden dette er et serielån, så vil avdragene være like hver måned men renteutgiftene reduseres i takt med avdragene. Renteutgiftene for en gitt termin \"t\" vil derfor være den årlige renten \"r\" (delt på antall forrentinger \"f\") på gjenværende beløp på det tidspunktet.   $renteutgifter_{t} = (x-a*(t-1))*{r/f}$   <br>  <br> \n",
    "Det vil si at renteutgiftene første termin er <br>\n",
    "$renteutgifter_{1} = (x-a*0)*{r/f}$, og andre termin er <br>\n",
    "$renteutgifter_{2} = (x-a*1)*{r/f}$ osv..<br> <br>\n",
    "Siden vi er ute etter den totale kostnaden i svaret, må du summere renteutgiftene over alle terminer, det vil si $\\sum_{t=1}^N(x-a*(t-1))*{r/f}$. Dette betyr egentlig bare $renteutgifter_{1} + renteutgifter_{2},...,+renteutgifter_{t}$\n",
    "\n",
    "\n",
    "<br>\n",
    "<b>Hint:</b> siden terminbeløpet varierer for hver måned (pga at rentene endres), må alle enkeltperioder summeres. Det kan være nyttige å bruke funksjonen np.arange() til dette. Mao, det er ikke nødvendig å bruke sigma ($\\sum_{t=1}^N$) i formelen til dette \n"
   ]
  },
  {
   "cell_type": "code",
   "execution_count": 198,
   "id": "bc4e49f8-3534-45e3-8991-ec7d93cac329",
   "metadata": {},
   "outputs": [
    {
     "data": {
      "text/latex": [
       "$\\displaystyle \\frac{r \\left(- a \\left(t - 1\\right) + x\\right)}{t}$"
      ],
      "text/plain": [
       "r*(-a*(t - 1) + x)/t"
      ]
     },
     "execution_count": 198,
     "metadata": {},
     "output_type": "execute_result"
    }
   ],
   "source": [
    "import sympy as sp\n",
    "import numpy as np\n",
    "\n",
    "def account_balance(x,r,t,a):\n",
    "    return (x-a*(t-1))*r/t\n",
    "\n",
    "x,r,t,a,=sp.symbols(\"x r t a\")\n",
    "\n",
    "account_balance(x,r,t,a)"
   ]
  },
  {
   "cell_type": "markdown",
   "id": "b85feca9-8641-4d22-b821-157d30ce8223",
   "metadata": {},
   "source": [
    "b) regn ut hvor mye lånet koster deg med henholdsvis 10, 20 og 30 års tilbakebetaling. Anta 1 000 000 kr lånebeløp med 3% rente"
   ]
  },
  {
   "cell_type": "code",
   "execution_count": 200,
   "id": "125e8c17-5283-4fa9-9c4d-5e020e24925c",
   "metadata": {
    "tags": []
   },
   "outputs": [
    {
     "data": {
      "text/latex": [
       "$\\displaystyle 250.0 - 0.02975 f$"
      ],
      "text/plain": [
       "250.0 - 0.02975*f"
      ]
     },
     "execution_count": 200,
     "metadata": {},
     "output_type": "execute_result"
    }
   ],
   "source": [
    "#For 10 år:\n",
    "account_balance(1000000,0.03,120,n)"
   ]
  },
  {
   "cell_type": "code",
   "execution_count": 199,
   "id": "27ce2278-ef5b-4b30-84cd-bcf4367286fd",
   "metadata": {
    "tags": []
   },
   "outputs": [
    {
     "data": {
      "text/latex": [
       "$\\displaystyle 125.0 - 0.029875 f$"
      ],
      "text/plain": [
       "125.0 - 0.029875*f"
      ]
     },
     "execution_count": 199,
     "metadata": {},
     "output_type": "execute_result"
    }
   ],
   "source": [
    "#For 20 år:\n",
    "account_balance(1000000,0.03,240,n)"
   ]
  },
  {
   "cell_type": "code",
   "execution_count": 201,
   "id": "a85e5278-edf0-45fa-89c3-f005f5846337",
   "metadata": {},
   "outputs": [
    {
     "data": {
      "text/latex": [
       "$\\displaystyle 83.3333333333333 - 0.0299166666666667 f$"
      ],
      "text/plain": [
       "83.3333333333333 - 0.0299166666666667*f"
      ]
     },
     "execution_count": 201,
     "metadata": {},
     "output_type": "execute_result"
    }
   ],
   "source": [
    "#For 30 år:\n",
    "account_balance(1000000,0.03,360,n)"
   ]
  },
  {
   "cell_type": "markdown",
   "id": "0dde7e5b-e8e5-4575-9473-8d621cb7c870",
   "metadata": {},
   "source": [
    "c) Vis hva det samme lånet koster som annuitetslån, dvs differansen mellom alle terminbeløp og lånebeløp.<br> <br> Annuitetslån gir like terminbeløp hver måned, men renten utgjør en større del av dette beløpet i starten. Terminbeløpet for et annuitetslån er definert ved formelen:\n",
    "$T = x*\\frac{r/f} {(1-(1+(r/f))^{-t})}$, hvor x=lånebeløp, r = årlig rente, t = terminer, f= antall forrentinger\n",
    "\n",
    "\n",
    "\n"
   ]
  },
  {
   "cell_type": "code",
   "execution_count": 202,
   "id": "245729d6-a3bf-4696-abfa-9525b9ce9820",
   "metadata": {
    "tags": []
   },
   "outputs": [
    {
     "data": {
      "text/latex": [
       "$\\displaystyle \\frac{r x \\left(1 - \\frac{1}{1 + \\frac{r}{f}}\\right)^{- t}}{f}$"
      ],
      "text/plain": [
       "r*x/(f*(1 - 1/(1 + r/f))**t)"
      ]
     },
     "execution_count": 202,
     "metadata": {},
     "output_type": "execute_result"
    }
   ],
   "source": [
    "def account_balance(x,r,t,f):\n",
    "    return x*(r/f)/((1-(1+(r/f))**-1)**t)\n",
    "\n",
    "import sympy as sp\n",
    "x,r,t,f=sp.symbols(\"x r t f\")\n",
    "\n",
    "account_balance(x,r,t,f)"
   ]
  },
  {
   "cell_type": "code",
   "execution_count": 203,
   "id": "99e4a947-963d-41b1-a762-97c91fa000d7",
   "metadata": {
    "tags": []
   },
   "outputs": [
    {
     "data": {
      "text/latex": [
       "$\\displaystyle \\frac{30000.0}{f \\left(1 - \\frac{1}{1 + \\frac{0.03}{f}}\\right)^{120}}$"
      ],
      "text/plain": [
       "30000.0/(f*(1 - 1/(1 + 0.03/f))**120)"
      ]
     },
     "execution_count": 203,
     "metadata": {},
     "output_type": "execute_result"
    }
   ],
   "source": [
    "#For 10 år:\n",
    "account_balance(1000000,0.03,120,f)"
   ]
  },
  {
   "cell_type": "code",
   "execution_count": 204,
   "id": "179b8725-fb47-44f8-ba68-e782b95108d3",
   "metadata": {
    "tags": []
   },
   "outputs": [
    {
     "data": {
      "text/latex": [
       "$\\displaystyle \\frac{30000.0}{f \\left(1 - \\frac{1}{1 + \\frac{0.03}{f}}\\right)^{240}}$"
      ],
      "text/plain": [
       "30000.0/(f*(1 - 1/(1 + 0.03/f))**240)"
      ]
     },
     "execution_count": 204,
     "metadata": {},
     "output_type": "execute_result"
    }
   ],
   "source": [
    "#For 10 år:\n",
    "account_balance(1000000,0.03,240,f)"
   ]
  },
  {
   "cell_type": "code",
   "execution_count": 205,
   "id": "b430c261-03be-4eac-b0ac-ec7d3ae3f7f4",
   "metadata": {},
   "outputs": [
    {
     "data": {
      "text/latex": [
       "$\\displaystyle \\frac{30000.0}{f \\left(1 - \\frac{1}{1 + \\frac{0.03}{f}}\\right)^{360}}$"
      ],
      "text/plain": [
       "30000.0/(f*(1 - 1/(1 + 0.03/f))**360)"
      ]
     },
     "execution_count": 205,
     "metadata": {},
     "output_type": "execute_result"
    }
   ],
   "source": [
    "#For 10 år:\n",
    "account_balance(1000000,0.03,360,f)"
   ]
  },
  {
   "cell_type": "markdown",
   "id": "64b32290-0ec7-41a1-b230-052fed8c5c0f",
   "metadata": {},
   "source": [
    "c) Vis hvordan utviklingen i rentekostnader og avdrag på terminer for serielån grafisk ved hjelp av stackplot funksjonen i matplotlib. Anta et bankinnskudd x = 1 000 000 kr, årlig rente r=3% og antall terminer t = 240 (det vil si 20 år). Siden vi må vise utviklingen per termin, husk at \"t\" også definerer hvilken måned vi er i. Dvs, hvis t=15, har det gått 1 år og 3 mnd med terminer. Se forøvrig relevante formler i oppgave (a) \n",
    "\n",
    "<br> \n",
    "\n",
    "<b>Hint1:</b> Siden avdragene er like for alle måneder, kan det være lurt å definere det månedlige avdraget som en liste og gange det med antall perioder. \n",
    "<b>Hint2:</b> Siden vi er ute etter både rentekostnader og avdrag hver for seg, kan det være lurt å definere en funksjon for hver av dem.\n"
   ]
  },
  {
   "cell_type": "code",
   "execution_count": 214,
   "id": "337d19f0-ca5a-4c8b-9b5c-a549d9c9cdaf",
   "metadata": {
    "tags": []
   },
   "outputs": [
    {
     "data": {
      "text/plain": [
       "<matplotlib.legend.Legend at 0x7f1ee4c97670>"
      ]
     },
     "execution_count": 214,
     "metadata": {},
     "output_type": "execute_result"
    },
    {
     "data": {
      "image/png": "[encoded data removed]",
      "text/plain": [
       "<Figure size 432x288 with 1 Axes>"
      ]
     },
     "metadata": {
      "needs_background": "light"
     },
     "output_type": "display_data"
    }
   ],
   "source": [
    "T = np.linspace(0, 10, 100)\n",
    "fig, ax = plt.subplots()\n",
    "ax.set_ylabel('Lån')\n",
    "ax.set_xlabel('Tid T')\n",
    "ax.plot(T, account_balance(100,0.2,T, 1), label = 'Annuitetslån', color = 'red')\n",
    "ax.legend(loc='upper left', frameon=False)\n",
    "\n"
   ]
  },
  {
   "cell_type": "code",
   "execution_count": null,
   "id": "c2cf2062-b67f-45b3-b8d0-db9593a7d5e7",
   "metadata": {
    "tags": []
   },
   "outputs": [],
   "source": []
  }
 ],
 "metadata": {
  "kernelspec": {
   "display_name": "Python 3 (ipykernel)",
   "language": "python",
   "name": "python3"
  },
  "language_info": {
   "codemirror_mode": {
    "name": "ipython",
    "version": 3
   },
   "file_extension": ".py",
   "mimetype": "text/x-python",
   "name": "python",
   "nbconvert_exporter": "python",
   "pygments_lexer": "ipython3",
   "version": "3.9.13"
  }
 },
 "nbformat": 4,
 "nbformat_minor": 5
}
